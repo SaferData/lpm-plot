{
 "cells": [
  {
   "cell_type": "code",
   "execution_count": 1,
   "id": "604bd26d-996b-40bb-ab01-4c07c4374cc9",
   "metadata": {},
   "outputs": [],
   "source": [
    "import polars as pl\n",
    "\n",
    "from lpm_plot import plot_marginal_1d"
   ]
  },
  {
   "cell_type": "code",
   "execution_count": 2,
   "id": "43f7382a-933a-4657-a3f9-3736c6145554",
   "metadata": {},
   "outputs": [],
   "source": [
    "observed_df = pl.read_csv(\"../tests/resources/hand-written-observed.csv\")\n",
    "synthetic_df = pl.read_csv(\"../tests/resources/hand-written-synthetic.csv\")"
   ]
  },
  {
   "cell_type": "code",
   "execution_count": 3,
   "id": "3556bd49-57b1-4574-a34f-c07807903913",
   "metadata": {},
   "outputs": [
    {
     "data": {
      "text/html": [
       "\n",
       "<style>\n",
       "  #altair-viz-f0435762953f4cfdaad1e355ecc934a4.vega-embed {\n",
       "    width: 100%;\n",
       "    display: flex;\n",
       "  }\n",
       "\n",
       "  #altair-viz-f0435762953f4cfdaad1e355ecc934a4.vega-embed details,\n",
       "  #altair-viz-f0435762953f4cfdaad1e355ecc934a4.vega-embed details summary {\n",
       "    position: relative;\n",
       "  }\n",
       "</style>\n",
       "<div id=\"altair-viz-f0435762953f4cfdaad1e355ecc934a4\"></div>\n",
       "<script type=\"text/javascript\">\n",
       "  var VEGA_DEBUG = (typeof VEGA_DEBUG == \"undefined\") ? {} : VEGA_DEBUG;\n",
       "  (function(spec, embedOpt){\n",
       "    let outputDiv = document.currentScript.previousElementSibling;\n",
       "    if (outputDiv.id !== \"altair-viz-f0435762953f4cfdaad1e355ecc934a4\") {\n",
       "      outputDiv = document.getElementById(\"altair-viz-f0435762953f4cfdaad1e355ecc934a4\");\n",
       "    }\n",
       "    const paths = {\n",
       "      \"vega\": \"https://cdn.jsdelivr.net/npm/vega@5?noext\",\n",
       "      \"vega-lib\": \"https://cdn.jsdelivr.net/npm/vega-lib?noext\",\n",
       "      \"vega-lite\": \"https://cdn.jsdelivr.net/npm/vega-lite@5.20.1?noext\",\n",
       "      \"vega-embed\": \"https://cdn.jsdelivr.net/npm/vega-embed@6?noext\",\n",
       "    };\n",
       "\n",
       "    function maybeLoadScript(lib, version) {\n",
       "      var key = `${lib.replace(\"-\", \"\")}_version`;\n",
       "      return (VEGA_DEBUG[key] == version) ?\n",
       "        Promise.resolve(paths[lib]) :\n",
       "        new Promise(function(resolve, reject) {\n",
       "          var s = document.createElement('script');\n",
       "          document.getElementsByTagName(\"head\")[0].appendChild(s);\n",
       "          s.async = true;\n",
       "          s.onload = () => {\n",
       "            VEGA_DEBUG[key] = version;\n",
       "            return resolve(paths[lib]);\n",
       "          };\n",
       "          s.onerror = () => reject(`Error loading script: ${paths[lib]}`);\n",
       "          s.src = paths[lib];\n",
       "        });\n",
       "    }\n",
       "\n",
       "    function showError(err) {\n",
       "      outputDiv.innerHTML = `<div class=\"error\" style=\"color:red;\">${err}</div>`;\n",
       "      throw err;\n",
       "    }\n",
       "\n",
       "    function displayChart(vegaEmbed) {\n",
       "      vegaEmbed(outputDiv, spec, embedOpt)\n",
       "        .catch(err => showError(`Javascript Error: ${err.message}<br>This usually means there's a typo in your chart specification. See the javascript console for the full traceback.`));\n",
       "    }\n",
       "\n",
       "    if(typeof define === \"function\" && define.amd) {\n",
       "      requirejs.config({paths});\n",
       "      require([\"vega-embed\"], displayChart, err => showError(`Error loading script: ${err.message}`));\n",
       "    } else {\n",
       "      maybeLoadScript(\"vega\", \"5\")\n",
       "        .then(() => maybeLoadScript(\"vega-lite\", \"5.20.1\"))\n",
       "        .then(() => maybeLoadScript(\"vega-embed\", \"6\"))\n",
       "        .catch(showError)\n",
       "        .then(() => displayChart(vegaEmbed));\n",
       "    }\n",
       "  })({\"config\": {\"view\": {\"continuousWidth\": 300, \"continuousHeight\": 300}}, \"vconcat\": [{\"hconcat\": [{\"data\": {\"name\": \"data-2844f2d6ea042a9c8a6acddc3830d52e\"}, \"mark\": {\"type\": \"bar\", \"color\": \"#000000\"}, \"encoding\": {\"color\": {\"value\": \"#000000\"}, \"x\": {\"aggregate\": \"count\", \"axis\": {\"orient\": \"top\"}, \"scale\": {\"domain\": [0, 17]}, \"type\": \"quantitative\"}, \"y\": {\"axis\": {\"titleAlign\": \"right\", \"titleAnchor\": \"start\", \"titleAngle\": 0, \"titlePadding\": 1}, \"field\": \"foo\", \"type\": \"nominal\"}}, \"transform\": [{\"filter\": \"(datum.data_source === 'observed')\"}]}, {\"data\": {\"name\": \"data-2844f2d6ea042a9c8a6acddc3830d52e\"}, \"mark\": {\"type\": \"bar\", \"color\": \"#f28e2b\"}, \"encoding\": {\"color\": {\"value\": \"#f28e2b\"}, \"x\": {\"aggregate\": \"count\", \"axis\": {\"orient\": \"top\"}, \"scale\": {\"domain\": [0, 17]}, \"type\": \"quantitative\"}, \"y\": {\"axis\": {\"titleAlign\": \"right\", \"titleAnchor\": \"start\", \"titleAngle\": 0, \"titlePadding\": 1}, \"field\": \"foo\", \"type\": \"nominal\"}}, \"transform\": [{\"filter\": \"(datum.data_source === 'synthetic')\"}]}]}, {\"hconcat\": [{\"data\": {\"name\": \"data-2844f2d6ea042a9c8a6acddc3830d52e\"}, \"mark\": {\"type\": \"bar\", \"color\": \"#000000\"}, \"encoding\": {\"color\": {\"value\": \"#000000\"}, \"x\": {\"aggregate\": \"count\", \"axis\": {\"orient\": \"top\"}, \"scale\": {\"domain\": [0, 13]}, \"type\": \"quantitative\"}, \"y\": {\"axis\": {\"titleAlign\": \"right\", \"titleAnchor\": \"start\", \"titleAngle\": 0, \"titlePadding\": 1}, \"field\": \"bar\", \"type\": \"nominal\"}}, \"transform\": [{\"filter\": \"(datum.data_source === 'observed')\"}]}, {\"data\": {\"name\": \"data-2844f2d6ea042a9c8a6acddc3830d52e\"}, \"mark\": {\"type\": \"bar\", \"color\": \"#f28e2b\"}, \"encoding\": {\"color\": {\"value\": \"#f28e2b\"}, \"x\": {\"aggregate\": \"count\", \"axis\": {\"orient\": \"top\"}, \"scale\": {\"domain\": [0, 13]}, \"type\": \"quantitative\"}, \"y\": {\"axis\": {\"titleAlign\": \"right\", \"titleAnchor\": \"start\", \"titleAngle\": 0, \"titlePadding\": 1}, \"field\": \"bar\", \"type\": \"nominal\"}}, \"transform\": [{\"filter\": \"(datum.data_source === 'synthetic')\"}]}]}, {\"hconcat\": [{\"data\": {\"name\": \"data-2844f2d6ea042a9c8a6acddc3830d52e\"}, \"mark\": {\"type\": \"bar\", \"color\": \"#000000\"}, \"encoding\": {\"color\": {\"value\": \"#000000\"}, \"x\": {\"aggregate\": \"count\", \"axis\": {\"orient\": \"top\"}, \"scale\": {\"domain\": [0, 13]}, \"type\": \"quantitative\"}, \"y\": {\"axis\": {\"titleAlign\": \"right\", \"titleAnchor\": \"start\", \"titleAngle\": 0, \"titlePadding\": 1}, \"field\": \"quagga\", \"type\": \"nominal\"}}, \"transform\": [{\"filter\": \"(datum.data_source === 'observed')\"}]}, {\"data\": {\"name\": \"data-2844f2d6ea042a9c8a6acddc3830d52e\"}, \"mark\": {\"type\": \"bar\", \"color\": \"#f28e2b\"}, \"encoding\": {\"color\": {\"value\": \"#f28e2b\"}, \"x\": {\"aggregate\": \"count\", \"axis\": {\"orient\": \"top\"}, \"scale\": {\"domain\": [0, 13]}, \"type\": \"quantitative\"}, \"y\": {\"axis\": {\"titleAlign\": \"right\", \"titleAnchor\": \"start\", \"titleAngle\": 0, \"titlePadding\": 1}, \"field\": \"quagga\", \"type\": \"nominal\"}}, \"transform\": [{\"filter\": \"(datum.data_source === 'synthetic')\"}]}]}, {\"data\": {\"name\": \"data-e37d854d46bd71046422067ffccf9e63\"}, \"mark\": {\"type\": \"point\", \"opacity\": 0, \"size\": 0}, \"encoding\": {\"color\": {\"field\": \"category\", \"legend\": {\"symbolStrokeWidth\": 4, \"title\": \"Legend\"}, \"scale\": {\"domain\": [\"Observed\", \"Synthetic\"], \"range\": [\"#000000\", \"#f28e2b\"]}, \"type\": \"nominal\"}}}], \"resolve\": {\"scale\": {\"color\": \"independent\"}}, \"title\": \"1-D Marginals\", \"$schema\": \"https://vega.github.io/schema/vega-lite/v5.20.1.json\", \"datasets\": {\"data-2844f2d6ea042a9c8a6acddc3830d52e\": [{\"foo\": \"b\", \"bar\": \"y\", \"quagga\": \"v\", \"data_source\": \"observed\"}, {\"foo\": \"b\", \"bar\": \"y\", \"quagga\": \"v\", \"data_source\": \"observed\"}, {\"foo\": \"a\", \"bar\": \"x\", \"quagga\": \"u\", \"data_source\": \"observed\"}, {\"foo\": \"c\", \"bar\": \"z\", \"quagga\": \"w\", \"data_source\": \"observed\"}, {\"foo\": \"b\", \"bar\": \"y\", \"quagga\": \"v\", \"data_source\": \"observed\"}, {\"foo\": \"b\", \"bar\": \"y\", \"quagga\": \"v\", \"data_source\": \"observed\"}, {\"foo\": \"c\", \"bar\": \"z\", \"quagga\": \"w\", \"data_source\": \"observed\"}, {\"foo\": \"a\", \"bar\": \"x\", \"quagga\": \"u\", \"data_source\": \"observed\"}, {\"foo\": \"a\", \"bar\": \"x\", \"quagga\": \"u\", \"data_source\": \"observed\"}, {\"foo\": \"c\", \"bar\": \"z\", \"quagga\": \"w\", \"data_source\": \"observed\"}, {\"foo\": \"c\", \"bar\": \"z\", \"quagga\": \"w\", \"data_source\": \"observed\"}, {\"foo\": \"c\", \"bar\": \"z\", \"quagga\": \"w\", \"data_source\": \"observed\"}, {\"foo\": \"c\", \"bar\": \"z\", \"quagga\": \"w\", \"data_source\": \"observed\"}, {\"foo\": \"b\", \"bar\": \"y\", \"quagga\": \"v\", \"data_source\": \"observed\"}, {\"foo\": \"b\", \"bar\": \"y\", \"quagga\": \"v\", \"data_source\": \"observed\"}, {\"foo\": \"b\", \"bar\": \"y\", \"quagga\": \"v\", \"data_source\": \"observed\"}, {\"foo\": \"b\", \"bar\": \"y\", \"quagga\": \"v\", \"data_source\": \"observed\"}, {\"foo\": \"a\", \"bar\": \"x\", \"quagga\": \"u\", \"data_source\": \"observed\"}, {\"foo\": \"a\", \"bar\": \"x\", \"quagga\": \"u\", \"data_source\": \"observed\"}, {\"foo\": \"a\", \"bar\": \"x\", \"quagga\": \"u\", \"data_source\": \"observed\"}, {\"foo\": \"a\", \"bar\": \"x\", \"quagga\": \"u\", \"data_source\": \"observed\"}, {\"foo\": \"a\", \"bar\": \"x\", \"quagga\": \"u\", \"data_source\": \"observed\"}, {\"foo\": \"a\", \"bar\": \"x\", \"quagga\": \"u\", \"data_source\": \"observed\"}, {\"foo\": \"a\", \"bar\": \"x\", \"quagga\": \"u\", \"data_source\": \"observed\"}, {\"foo\": \"b\", \"bar\": \"y\", \"quagga\": \"v\", \"data_source\": \"observed\"}, {\"foo\": \"a\", \"bar\": \"x\", \"quagga\": \"u\", \"data_source\": \"observed\"}, {\"foo\": \"b\", \"bar\": \"y\", \"quagga\": \"v\", \"data_source\": \"observed\"}, {\"foo\": \"a\", \"bar\": \"x\", \"quagga\": \"u\", \"data_source\": \"observed\"}, {\"foo\": \"b\", \"bar\": \"y\", \"quagga\": \"v\", \"data_source\": \"observed\"}, {\"foo\": \"c\", \"bar\": \"z\", \"quagga\": \"w\", \"data_source\": \"observed\"}, {\"foo\": \"b\", \"bar\": \"y\", \"quagga\": \"w\", \"data_source\": \"synthetic\"}, {\"foo\": \"a\", \"bar\": \"x\", \"quagga\": \"v\", \"data_source\": \"synthetic\"}, {\"foo\": \"b\", \"bar\": \"y\", \"quagga\": \"v\", \"data_source\": \"synthetic\"}, {\"foo\": \"b\", \"bar\": \"y\", \"quagga\": \"v\", \"data_source\": \"synthetic\"}, {\"foo\": \"b\", \"bar\": \"x\", \"quagga\": \"v\", \"data_source\": \"synthetic\"}, {\"foo\": \"a\", \"bar\": \"y\", \"quagga\": \"v\", \"data_source\": \"synthetic\"}, {\"foo\": \"a\", \"bar\": \"y\", \"quagga\": \"v\", \"data_source\": \"synthetic\"}, {\"foo\": \"a\", \"bar\": \"x\", \"quagga\": \"u\", \"data_source\": \"synthetic\"}, {\"foo\": \"a\", \"bar\": \"x\", \"quagga\": \"u\", \"data_source\": \"synthetic\"}, {\"foo\": \"a\", \"bar\": \"y\", \"quagga\": \"u\", \"data_source\": \"synthetic\"}, {\"foo\": \"a\", \"bar\": \"x\", \"quagga\": \"u\", \"data_source\": \"synthetic\"}, {\"foo\": \"c\", \"bar\": \"z\", \"quagga\": \"v\", \"data_source\": \"synthetic\"}, {\"foo\": \"a\", \"bar\": \"x\", \"quagga\": \"u\", \"data_source\": \"synthetic\"}, {\"foo\": \"c\", \"bar\": \"y\", \"quagga\": \"v\", \"data_source\": \"synthetic\"}, {\"foo\": \"b\", \"bar\": \"y\", \"quagga\": \"v\", \"data_source\": \"synthetic\"}, {\"foo\": \"c\", \"bar\": \"y\", \"quagga\": \"v\", \"data_source\": \"synthetic\"}, {\"foo\": \"a\", \"bar\": \"x\", \"quagga\": \"u\", \"data_source\": \"synthetic\"}, {\"foo\": \"a\", \"bar\": \"x\", \"quagga\": \"u\", \"data_source\": \"synthetic\"}, {\"foo\": \"a\", \"bar\": \"x\", \"quagga\": \"u\", \"data_source\": \"synthetic\"}, {\"foo\": \"a\", \"bar\": \"x\", \"quagga\": \"u\", \"data_source\": \"synthetic\"}, {\"foo\": \"c\", \"bar\": \"z\", \"quagga\": \"u\", \"data_source\": \"synthetic\"}, {\"foo\": \"a\", \"bar\": \"y\", \"quagga\": \"u\", \"data_source\": \"synthetic\"}, {\"foo\": \"a\", \"bar\": \"x\", \"quagga\": \"u\", \"data_source\": \"synthetic\"}, {\"foo\": \"a\", \"bar\": \"y\", \"quagga\": \"w\", \"data_source\": \"synthetic\"}, {\"foo\": \"a\", \"bar\": \"x\", \"quagga\": \"v\", \"data_source\": \"synthetic\"}, {\"foo\": \"a\", \"bar\": \"y\", \"quagga\": \"w\", \"data_source\": \"synthetic\"}, {\"foo\": \"b\", \"bar\": \"z\", \"quagga\": \"w\", \"data_source\": \"synthetic\"}, {\"foo\": \"c\", \"bar\": \"z\", \"quagga\": \"w\", \"data_source\": \"synthetic\"}, {\"foo\": \"b\", \"bar\": \"y\", \"quagga\": \"v\", \"data_source\": \"synthetic\"}, {\"foo\": \"c\", \"bar\": \"x\", \"quagga\": \"v\", \"data_source\": \"synthetic\"}], \"data-e37d854d46bd71046422067ffccf9e63\": [{\"category\": \"Observed\", \"dummy\": 0}, {\"category\": \"Synthetic\", \"dummy\": 0}]}}, {\"mode\": \"vega-lite\"});\n",
       "</script>"
      ],
      "text/plain": [
       "alt.VConcatChart(...)"
      ]
     },
     "execution_count": 3,
     "metadata": {},
     "output_type": "execute_result"
    }
   ],
   "source": [
    "plot_marginal_1d(observed_df, synthetic_df, columns=[\"foo\", \"bar\", \"quagga\"])"
   ]
  }
 ],
 "metadata": {
  "kernelspec": {
   "display_name": "Python 3 (ipykernel)",
   "language": "python",
   "name": "python3"
  },
  "language_info": {
   "codemirror_mode": {
    "name": "ipython",
    "version": 3
   },
   "file_extension": ".py",
   "mimetype": "text/x-python",
   "name": "python",
   "nbconvert_exporter": "python",
   "pygments_lexer": "ipython3",
   "version": "3.12.3"
  }
 },
 "nbformat": 4,
 "nbformat_minor": 5
}
